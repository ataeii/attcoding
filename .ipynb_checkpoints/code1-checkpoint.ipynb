{
 "cells": [
  {
   "cell_type": "code",
   "execution_count": 21,
   "metadata": {
    "collapsed": true
   },
   "outputs": [],
   "source": [
    "import numpy as np\n",
    "import random as rd\n",
    "import pandas as pd\n",
    "import os, sys\n",
    "import glob\n",
    "import math\n"
   ]
  },
  {
   "cell_type": "markdown",
   "metadata": {},
   "source": [
    "Let's import the CSV file and do some basic analysis on the data. \n",
    "1. Let's see how many students are in the list.\n",
    "2. How many went to Gabriel Pereira school and\n",
    "3. how many are enrolled in Mousinho da Silveira\n",
    "4. Some more exploratory analysis. "
   ]
  },
  {
   "cell_type": "code",
   "execution_count": 22,
   "metadata": {
    "collapsed": false
   },
   "outputs": [
    {
     "name": "stdout",
     "output_type": "stream",
     "text": [
      "Total number of students is 395\n",
      "Total number of GP students is 349\n",
      "Total number of MS students is 46\n",
      "The number of students both of whose parents have a higher education = 70 which is 0.17721518987341772 of all student.\n"
     ]
    }
   ],
   "source": [
    "df = pd.read_csv(\"student-mat.csv\",sep=';')\n",
    "total = len(df)\n",
    "print('Total number of students is ' + str(total))\n",
    "\n",
    "GPschool = df.loc[(df.school== \"GP\")]#& (df.traveltime==2)]\n",
    "totalGP = len(GPschool)\n",
    "print('Total number of GP students is ' + str(totalGP))\n",
    "\n",
    "MSschool = df.loc[df.school==\"MS\"]\n",
    "totalMS = len(MSschool)\n",
    "print('Total number of MS students is ' + str(totalMS))\n",
    "\n",
    "highered = df.loc[(df.Medu==4)& (df.Fedu==4)]\n",
    "nHiEd = len(highered)\n",
    "percHiEd = nHiEd/total\n",
    "print('The number of students both of whose parents have a higher education = '+str(nHiEd) + ' which is ' + str(percHiEd) + ' of all student.')\n",
    "\n",
    "\n",
    "\n",
    "\n"
   ]
  },
  {
   "cell_type": "markdown",
   "metadata": {
    "collapsed": true
   },
   "source": [
    "Now let's describe the data. We will calculate the number of entires (count), average (mean), standard deviation (std), minimum, and maximum and different percentile values."
   ]
  },
  {
   "cell_type": "code",
   "execution_count": 23,
   "metadata": {
    "collapsed": false
   },
   "outputs": [
    {
     "data": {
      "text/html": [
       "<div>\n",
       "<table border=\"1\" class=\"dataframe\">\n",
       "  <thead>\n",
       "    <tr style=\"text-align: right;\">\n",
       "      <th></th>\n",
       "      <th>age</th>\n",
       "      <th>Medu</th>\n",
       "      <th>Fedu</th>\n",
       "      <th>traveltime</th>\n",
       "      <th>studytime</th>\n",
       "      <th>failures</th>\n",
       "      <th>famrel</th>\n",
       "      <th>freetime</th>\n",
       "      <th>goout</th>\n",
       "      <th>Dalc</th>\n",
       "      <th>Walc</th>\n",
       "      <th>health</th>\n",
       "      <th>absences</th>\n",
       "      <th>G1</th>\n",
       "      <th>G2</th>\n",
       "      <th>G3</th>\n",
       "    </tr>\n",
       "  </thead>\n",
       "  <tbody>\n",
       "    <tr>\n",
       "      <th>count</th>\n",
       "      <td>395.000000</td>\n",
       "      <td>395.000000</td>\n",
       "      <td>395.000000</td>\n",
       "      <td>395.000000</td>\n",
       "      <td>395.000000</td>\n",
       "      <td>395.000000</td>\n",
       "      <td>395.000000</td>\n",
       "      <td>395.000000</td>\n",
       "      <td>395.000000</td>\n",
       "      <td>395.000000</td>\n",
       "      <td>395.000000</td>\n",
       "      <td>395.000000</td>\n",
       "      <td>395.000000</td>\n",
       "      <td>395.000000</td>\n",
       "      <td>395.000000</td>\n",
       "      <td>395.000000</td>\n",
       "    </tr>\n",
       "    <tr>\n",
       "      <th>mean</th>\n",
       "      <td>16.696203</td>\n",
       "      <td>2.749367</td>\n",
       "      <td>2.521519</td>\n",
       "      <td>1.448101</td>\n",
       "      <td>2.035443</td>\n",
       "      <td>0.334177</td>\n",
       "      <td>3.944304</td>\n",
       "      <td>3.235443</td>\n",
       "      <td>3.108861</td>\n",
       "      <td>1.481013</td>\n",
       "      <td>2.291139</td>\n",
       "      <td>3.554430</td>\n",
       "      <td>5.708861</td>\n",
       "      <td>10.908861</td>\n",
       "      <td>10.713924</td>\n",
       "      <td>10.415190</td>\n",
       "    </tr>\n",
       "    <tr>\n",
       "      <th>std</th>\n",
       "      <td>1.276043</td>\n",
       "      <td>1.094735</td>\n",
       "      <td>1.088201</td>\n",
       "      <td>0.697505</td>\n",
       "      <td>0.839240</td>\n",
       "      <td>0.743651</td>\n",
       "      <td>0.896659</td>\n",
       "      <td>0.998862</td>\n",
       "      <td>1.113278</td>\n",
       "      <td>0.890741</td>\n",
       "      <td>1.287897</td>\n",
       "      <td>1.390303</td>\n",
       "      <td>8.003096</td>\n",
       "      <td>3.319195</td>\n",
       "      <td>3.761505</td>\n",
       "      <td>4.581443</td>\n",
       "    </tr>\n",
       "    <tr>\n",
       "      <th>min</th>\n",
       "      <td>15.000000</td>\n",
       "      <td>0.000000</td>\n",
       "      <td>0.000000</td>\n",
       "      <td>1.000000</td>\n",
       "      <td>1.000000</td>\n",
       "      <td>0.000000</td>\n",
       "      <td>1.000000</td>\n",
       "      <td>1.000000</td>\n",
       "      <td>1.000000</td>\n",
       "      <td>1.000000</td>\n",
       "      <td>1.000000</td>\n",
       "      <td>1.000000</td>\n",
       "      <td>0.000000</td>\n",
       "      <td>3.000000</td>\n",
       "      <td>0.000000</td>\n",
       "      <td>0.000000</td>\n",
       "    </tr>\n",
       "    <tr>\n",
       "      <th>25%</th>\n",
       "      <td>16.000000</td>\n",
       "      <td>2.000000</td>\n",
       "      <td>2.000000</td>\n",
       "      <td>1.000000</td>\n",
       "      <td>1.000000</td>\n",
       "      <td>0.000000</td>\n",
       "      <td>4.000000</td>\n",
       "      <td>3.000000</td>\n",
       "      <td>2.000000</td>\n",
       "      <td>1.000000</td>\n",
       "      <td>1.000000</td>\n",
       "      <td>3.000000</td>\n",
       "      <td>0.000000</td>\n",
       "      <td>8.000000</td>\n",
       "      <td>9.000000</td>\n",
       "      <td>8.000000</td>\n",
       "    </tr>\n",
       "    <tr>\n",
       "      <th>50%</th>\n",
       "      <td>17.000000</td>\n",
       "      <td>3.000000</td>\n",
       "      <td>2.000000</td>\n",
       "      <td>1.000000</td>\n",
       "      <td>2.000000</td>\n",
       "      <td>0.000000</td>\n",
       "      <td>4.000000</td>\n",
       "      <td>3.000000</td>\n",
       "      <td>3.000000</td>\n",
       "      <td>1.000000</td>\n",
       "      <td>2.000000</td>\n",
       "      <td>4.000000</td>\n",
       "      <td>4.000000</td>\n",
       "      <td>11.000000</td>\n",
       "      <td>11.000000</td>\n",
       "      <td>11.000000</td>\n",
       "    </tr>\n",
       "    <tr>\n",
       "      <th>75%</th>\n",
       "      <td>18.000000</td>\n",
       "      <td>4.000000</td>\n",
       "      <td>3.000000</td>\n",
       "      <td>2.000000</td>\n",
       "      <td>2.000000</td>\n",
       "      <td>0.000000</td>\n",
       "      <td>5.000000</td>\n",
       "      <td>4.000000</td>\n",
       "      <td>4.000000</td>\n",
       "      <td>2.000000</td>\n",
       "      <td>3.000000</td>\n",
       "      <td>5.000000</td>\n",
       "      <td>8.000000</td>\n",
       "      <td>13.000000</td>\n",
       "      <td>13.000000</td>\n",
       "      <td>14.000000</td>\n",
       "    </tr>\n",
       "    <tr>\n",
       "      <th>max</th>\n",
       "      <td>22.000000</td>\n",
       "      <td>4.000000</td>\n",
       "      <td>4.000000</td>\n",
       "      <td>4.000000</td>\n",
       "      <td>4.000000</td>\n",
       "      <td>3.000000</td>\n",
       "      <td>5.000000</td>\n",
       "      <td>5.000000</td>\n",
       "      <td>5.000000</td>\n",
       "      <td>5.000000</td>\n",
       "      <td>5.000000</td>\n",
       "      <td>5.000000</td>\n",
       "      <td>75.000000</td>\n",
       "      <td>19.000000</td>\n",
       "      <td>19.000000</td>\n",
       "      <td>20.000000</td>\n",
       "    </tr>\n",
       "  </tbody>\n",
       "</table>\n",
       "</div>"
      ],
      "text/plain": [
       "              age        Medu        Fedu  traveltime   studytime    failures  \\\n",
       "count  395.000000  395.000000  395.000000  395.000000  395.000000  395.000000   \n",
       "mean    16.696203    2.749367    2.521519    1.448101    2.035443    0.334177   \n",
       "std      1.276043    1.094735    1.088201    0.697505    0.839240    0.743651   \n",
       "min     15.000000    0.000000    0.000000    1.000000    1.000000    0.000000   \n",
       "25%     16.000000    2.000000    2.000000    1.000000    1.000000    0.000000   \n",
       "50%     17.000000    3.000000    2.000000    1.000000    2.000000    0.000000   \n",
       "75%     18.000000    4.000000    3.000000    2.000000    2.000000    0.000000   \n",
       "max     22.000000    4.000000    4.000000    4.000000    4.000000    3.000000   \n",
       "\n",
       "           famrel    freetime       goout        Dalc        Walc      health  \\\n",
       "count  395.000000  395.000000  395.000000  395.000000  395.000000  395.000000   \n",
       "mean     3.944304    3.235443    3.108861    1.481013    2.291139    3.554430   \n",
       "std      0.896659    0.998862    1.113278    0.890741    1.287897    1.390303   \n",
       "min      1.000000    1.000000    1.000000    1.000000    1.000000    1.000000   \n",
       "25%      4.000000    3.000000    2.000000    1.000000    1.000000    3.000000   \n",
       "50%      4.000000    3.000000    3.000000    1.000000    2.000000    4.000000   \n",
       "75%      5.000000    4.000000    4.000000    2.000000    3.000000    5.000000   \n",
       "max      5.000000    5.000000    5.000000    5.000000    5.000000    5.000000   \n",
       "\n",
       "         absences          G1          G2          G3  \n",
       "count  395.000000  395.000000  395.000000  395.000000  \n",
       "mean     5.708861   10.908861   10.713924   10.415190  \n",
       "std      8.003096    3.319195    3.761505    4.581443  \n",
       "min      0.000000    3.000000    0.000000    0.000000  \n",
       "25%      0.000000    8.000000    9.000000    8.000000  \n",
       "50%      4.000000   11.000000   11.000000   11.000000  \n",
       "75%      8.000000   13.000000   13.000000   14.000000  \n",
       "max     75.000000   19.000000   19.000000   20.000000  "
      ]
     },
     "execution_count": 23,
     "metadata": {},
     "output_type": "execute_result"
    }
   ],
   "source": [
    "df.describe()"
   ]
  },
  {
   "cell_type": "markdown",
   "metadata": {},
   "source": [
    "Now let's look at the count, existence of null values and the datatype for each attribute. "
   ]
  },
  {
   "cell_type": "code",
   "execution_count": 24,
   "metadata": {
    "collapsed": false
   },
   "outputs": [
    {
     "name": "stdout",
     "output_type": "stream",
     "text": [
      "<class 'pandas.core.frame.DataFrame'>\n",
      "RangeIndex: 395 entries, 0 to 394\n",
      "Data columns (total 33 columns):\n",
      "school        395 non-null object\n",
      "sex           395 non-null object\n",
      "age           395 non-null int64\n",
      "address       395 non-null object\n",
      "famsize       395 non-null object\n",
      "Pstatus       395 non-null object\n",
      "Medu          395 non-null int64\n",
      "Fedu          395 non-null int64\n",
      "Mjob          395 non-null object\n",
      "Fjob          395 non-null object\n",
      "reason        395 non-null object\n",
      "guardian      395 non-null object\n",
      "traveltime    395 non-null int64\n",
      "studytime     395 non-null int64\n",
      "failures      395 non-null int64\n",
      "schoolsup     395 non-null object\n",
      "famsup        395 non-null object\n",
      "paid          395 non-null object\n",
      "activities    395 non-null object\n",
      "nursery       395 non-null object\n",
      "higher        395 non-null object\n",
      "internet      395 non-null object\n",
      "romantic      395 non-null object\n",
      "famrel        395 non-null int64\n",
      "freetime      395 non-null int64\n",
      "goout         395 non-null int64\n",
      "Dalc          395 non-null int64\n",
      "Walc          395 non-null int64\n",
      "health        395 non-null int64\n",
      "absences      395 non-null int64\n",
      "G1            395 non-null int64\n",
      "G2            395 non-null int64\n",
      "G3            395 non-null int64\n",
      "dtypes: int64(16), object(17)\n",
      "memory usage: 101.9+ KB\n"
     ]
    }
   ],
   "source": [
    "df.info()"
   ]
  },
  {
   "cell_type": "code",
   "execution_count": 25,
   "metadata": {
    "collapsed": false
   },
   "outputs": [
    {
     "name": "stdout",
     "output_type": "stream",
     "text": [
      "Number of entries with no null values = 395\n",
      " and the number of all entries = 395\n"
     ]
    }
   ],
   "source": [
    "pcc = df.dropna(axis=0, how='any', thresh=None, subset=None, inplace=False)\n",
    "print('Number of entries with no null values = '+str(len(pcc)) + '\\n and the number of all entries = '+str(len(df)))"
   ]
  },
  {
   "cell_type": "markdown",
   "metadata": {},
   "source": [
    "Since the data has no null value entries therefore it is complete. "
   ]
  },
  {
   "cell_type": "markdown",
   "metadata": {},
   "source": [
    "Let's explore some relationship between different attributes and see if any correlations exist."
   ]
  },
  {
   "cell_type": "code",
   "execution_count": 27,
   "metadata": {
    "collapsed": false
   },
   "outputs": [
    {
     "name": "stdout",
     "output_type": "stream",
     "text": [
      "Number of stuents whose guardian is their mother and have one or more than one failure  = 43\n",
      "Number of stuents whose guardian is their father and have one or more than one failure  = 19\n",
      "The number of female students who have at least one failure and are are romantically involved is 22 vs. those who are not romantically involved = 18\n",
      "The number for male students in the same order are =14 and 29\n",
      " Therefore we can conclude that boys do a lot better when romantically involved and girl do slightly worse when romantically involved \n",
      "14 29\n",
      "The number of students with one or more failures whose mother is stay at home mom is 15 and those whose mother is not stay at home and have at least one failure is 68\n",
      ". So we can see a correlation between whether a mother is stay at home job and student performance.\n"
     ]
    }
   ],
   "source": [
    "guardianM = df.loc[df.guardian == 'mother']\n",
    "guardianMF = guardianM.loc[guardianM.failures>0]\n",
    "print('Number of stuents whose guardian is their mother and have one or more than one failure  = ' + str(len(guardianMF)))\n",
    "\n",
    "guardianF = df.loc[df.guardian == 'father']\n",
    "guardianFF = guardianF.loc[guardianF.failures>0]\n",
    "print('Number of stuents whose guardian is their father and have one or more than one failure  = ' + str(len(guardianFF)))\n",
    "\n",
    "#female students that involved romantically and those who are not and theri failure rate\n",
    "romanFF = df.loc[(df.sex!='M') & (df.romantic=='yes') & (df.failures>0) ]\n",
    "nonromanFF =df.loc[(df.sex!='M') & (df.romantic=='no') & (df.failures>0) ]\n",
    "romanMF = df.loc[(df.sex=='M') & (df.romantic=='yes') & (df.failures>0) ]\n",
    "nonromanMF =df.loc[(df.sex=='M') & (df.romantic=='no') & (df.failures>0) ]\n",
    "\n",
    "print('The number of female students who have at least one failure and are are romantically involved is ' + str(len(romanFF)) +' vs. those who are not romantically involved = '+ str(len(nonromanFF)))\n",
    "\n",
    "print('The number for male students in the same order are =' + str(len(romanMF)) + ' and ' + str(len(nonromanMF)))\n",
    "print(' Therefore we can conclude that boys do a lot better when romantically involved and girl do slightly worse when romantically involved ')\n",
    "\n",
    "\n",
    "print(len(romanMF),len(nonromanMF)) # Number of romantically involved male students with 1 or more failures vs non romantically invovled.\n",
    "\n",
    "atHomeMomF = df.loc[(df.Mjob =='at_home')&(df.failures >0)]\n",
    "notAtHomeMomF = df.loc[(df.Mjob!='at_home')&(df.failures >0)]\n",
    "\n",
    "print('The number of students with one or more failures whose mother is stay at home mom is ' + str(len(atHomeMomF))+ ' and those whose mother is not stay at home and have at least one failure is ' + str(len(notAtHomeMomF)))\n",
    "print('. So we can see a correlation between whether a mother is stay at home job and student performance.')\n",
    "      \n",
    "\n"
   ]
  },
  {
   "cell_type": "markdown",
   "metadata": {},
   "source": [
    "\n",
    "\n",
    "\n",
    "**** Now let's generate a regression model that can predict the score for G3.\n",
    "\n",
    "We are goign to generate an alogirthm that can predict the score for the course G3 for a student. \n",
    "theta = inv(transpose(x)*x)*transpose(x)*load;\n",
    "1. This CSV file 'student-matpython.csv' only includes the numeric data and the score for G3 only. \n",
    "2. slic is the value by which we slice the datasate. We only look at 'slic' number of record for our analysis. \n",
    "3. Based on the 'slic' number of students, all of whom have 11 number of features to look at\n",
    "    We generate a 'theta' weight array. \n",
    "    'theta' is the weight array which is going to help predict the G3 score for a given student. \n",
    "    y1 = dotproduct(theta, features)\n",
    "    features are the input features which are available for every student.\n",
    "    y1 is the predicted value. "
   ]
  },
  {
   "cell_type": "code",
   "execution_count": 28,
   "metadata": {
    "collapsed": false
   },
   "outputs": [],
   "source": [
    "\n",
    "\n",
    "def predictor(df2,slic):\n",
    "    slic = 100 \n",
    "    rown =rd.randint(slic,total-slic)\n",
    "    \n",
    "\n",
    "    X1 = df2.iloc[rown-slic:rown-1]\n",
    "\n",
    "    Y = X1.iloc[:,-1] # This is the matrix of the output values (which are the scores for G3)\n",
    "    X = X1.iloc[:,0:13] # This is the matrix of the input features. \n",
    "\n",
    "    XT = X.T\n",
    "    one = np.matmul(XT,X)\n",
    "    two = np.linalg.inv(one)\n",
    "    three = np.matmul(two,XT)\n",
    "    theta =np.matmul(three,Y) # The theta matrix creates \n",
    "    features = df2.iloc[rown,0:13]\n",
    "    actualscore = df2.iloc[rown,13]\n",
    "\n",
    "    \n",
    "    y1 = np.dot(theta,features)\n",
    "    return y1,actualscore"
   ]
  },
  {
   "cell_type": "code",
   "execution_count": 29,
   "metadata": {
    "collapsed": false
   },
   "outputs": [
    {
     "name": "stdout",
     "output_type": "stream",
     "text": [
      "Prediction is = 8.97193575243 And the actual value is = 6\n",
      "Prediction is = 11.6385825702 And the actual value is = 13\n",
      "Prediction is = 3.45226286094 And the actual value is = 7\n",
      "Prediction is = 11.6385825702 And the actual value is = 13\n",
      "Prediction is = 11.7216715061 And the actual value is = 11\n",
      "Prediction is = 11.6549305351 And the actual value is = 13\n",
      "Prediction is = 10.9850844453 And the actual value is = 11\n",
      "Prediction is = 12.2101200187 And the actual value is = 11\n",
      "Prediction is = 10.218988419 And the actual value is = 18\n",
      "Prediction is = 11.6549305351 And the actual value is = 13\n",
      "The average variation of the predicted value from the actual value is 1.471746083446471 while the average value of the actual score is 11.6\n",
      "So we can see that our predictor is doing relatively well. However we can test other methods and see which methods is more accurate\n"
     ]
    }
   ],
   "source": [
    "df2 = pd.read_csv(\"student-matpython.csv\",sep=',') # This data is different. It includes only the numeric entries because we are going to create a regression based on numeric data.\n",
    "sum1 = 0\n",
    "n = 10\n",
    "yarray = []\n",
    "for i in range(n):\n",
    "    y1, actualscore = predictor(df2,100)\n",
    "    sum1 += (abs(y1-actualscore))\n",
    "    yarray.append(actualscore)\n",
    "    print('Prediction is = '+str(y1)+ ' And the actual value is = '+str(actualscore))\n",
    "    \n",
    "avgy = sum(yarray)/n\n",
    "dev = math.sqrt(sum1/n)\n",
    "\n",
    "print('The average variation of the predicted value from the actual value is '+str(dev) + ' while the average value of the actual score is '+str(avgy))\n",
    "print('So we can see that our predictor is doing relatively well. However we can test other methods and see which methods is more accurate')  "
   ]
  },
  {
   "cell_type": "code",
   "execution_count": null,
   "metadata": {
    "collapsed": true
   },
   "outputs": [],
   "source": []
  },
  {
   "cell_type": "code",
   "execution_count": null,
   "metadata": {
    "collapsed": true
   },
   "outputs": [],
   "source": []
  },
  {
   "cell_type": "code",
   "execution_count": null,
   "metadata": {
    "collapsed": true
   },
   "outputs": [],
   "source": []
  }
 ],
 "metadata": {
  "anaconda-cloud": {},
  "kernelspec": {
   "display_name": "Python [conda root]",
   "language": "python",
   "name": "conda-root-py"
  },
  "language_info": {
   "codemirror_mode": {
    "name": "ipython",
    "version": 3
   },
   "file_extension": ".py",
   "mimetype": "text/x-python",
   "name": "python",
   "nbconvert_exporter": "python",
   "pygments_lexer": "ipython3",
   "version": "3.5.2"
  }
 },
 "nbformat": 4,
 "nbformat_minor": 1
}
